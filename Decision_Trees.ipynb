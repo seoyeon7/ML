{
  "nbformat": 4,
  "nbformat_minor": 0,
  "metadata": {
    "colab": {
      "name": "Decision Trees",
      "provenance": [],
      "collapsed_sections": [],
      "authorship_tag": "ABX9TyNbLce5rAJwVDg+jIyFcPr0",
      "include_colab_link": true
    },
    "kernelspec": {
      "name": "python3",
      "display_name": "Python 3"
    },
    "language_info": {
      "name": "python"
    }
  },
  "cells": [
    {
      "cell_type": "markdown",
      "metadata": {
        "id": "view-in-github",
        "colab_type": "text"
      },
      "source": [
        "<a href=\"https://colab.research.google.com/github/seoyeon7/ML/blob/main/Decision_Trees.ipynb\" target=\"_parent\"><img src=\"https://colab.research.google.com/assets/colab-badge.svg\" alt=\"Open In Colab\"/></a>"
      ]
    },
    {
      "cell_type": "code",
      "source": [
        "import math\n",
        "from matplotlib import pyplot as plt\n",
        "import pandas as pd\n",
        "import numpy as np"
      ],
      "metadata": {
        "id": "fSVgE2tMHUpR"
      },
      "execution_count": 402,
      "outputs": []
    },
    {
      "cell_type": "code",
      "source": [
        "#iris 데이터셋 불러오기\n",
        "data = pd.read_csv('/content/iris.data',header=None, names=['sepal_len','sepal_width','petal_len','petal_width','class'])"
      ],
      "metadata": {
        "id": "sqHXNglp-hrN"
      },
      "execution_count": 403,
      "outputs": []
    },
    {
      "cell_type": "code",
      "source": [
        "# 범주형 알고리즘 사용을 위해 데이터 정수화\n",
        "from sklearn.preprocessing import LabelEncoder\n",
        "encoder = LabelEncoder()\n",
        "encoder.fit(data['sepal_len'])\n",
        "data[\"sepal_len\"] = encoder.transform(data[\"sepal_len\"])\n",
        "\n",
        "encoder.fit(data['sepal_width'])\n",
        "data['sepal_width'] = encoder.transform(data['sepal_width'])\n",
        "\n",
        "encoder.fit(data['petal_len'])\n",
        "data['petal_len'] = encoder.transform(data['petal_len'])\n",
        "\n",
        "encoder.fit(data['petal_width'])\n",
        "data['petal_width'] = encoder.transform(data['petal_width'])\n",
        "\n",
        "encoder.fit(data['class'])\n",
        "data['class'] = encoder.transform(data['class'])"
      ],
      "metadata": {
        "id": "QcfwJlXQ84SU"
      },
      "execution_count": 404,
      "outputs": []
    },
    {
      "cell_type": "code",
      "source": [
        "#기술 속성(descriptive features)과 대상 속성 분류(target feature)\n",
        "index=data[['sepal_len','sepal_width','petal_len','petal_width']]\n",
        "target = data['class']"
      ],
      "metadata": {
        "id": "Oj196a4w8T8u"
      },
      "execution_count": 405,
      "outputs": []
    },
    {
      "cell_type": "code",
      "source": [
        "# 제대로된 학습을 위한 데이터 셔플링\n",
        "data = data.sample(frac=1).reset_index(drop=True)"
      ],
      "metadata": {
        "id": "Tun4CHDjBdGa"
      },
      "execution_count": 406,
      "outputs": []
    },
    {
      "cell_type": "code",
      "source": [
        "#train set(80%)과 test set(20%)으로 분류\n",
        "def split(dataset):\n",
        "    train_size = int(data.shape[0]*0.80)\n",
        "    test_size = int(data.shape[0]*0.20)\n",
        "    \n",
        "    traindata = dataset.iloc[test_size:].reset_index(drop=True)\n",
        "    testdata = dataset.iloc[:test_size].reset_index(drop=True)\n",
        "    return traindata,testdata\n",
        "\n",
        "train = split(data)[0]\n",
        "test = split(data)[1] "
      ],
      "metadata": {
        "id": "BZDOdQZF6pXE"
      },
      "execution_count": 407,
      "outputs": []
    },
    {
      "cell_type": "code",
      "execution_count": 408,
      "metadata": {
        "id": "JwbU7YPgDZqz"
      },
      "outputs": [],
      "source": [
        "#엔트로피 계산\n",
        "def entropy(target_col):\n",
        "    elements,counts = np.unique(target_col,return_counts = True)\n",
        "    entropy = -np.sum([(counts[i]/np.sum(counts))*np.log2(counts[i]/np.sum(counts)) for i in range(len(elements))])\n",
        "    return entropy"
      ]
    },
    {
      "cell_type": "code",
      "source": [
        "# 정보이득 계산\n",
        "\n",
        "def Gain(data,gain_data,target_name=\"class\"):\n",
        "    # 전체 데이터 셋에 대한 엔트로피 계산\n",
        "    entropy_all = entropy(data[target_name])\n",
        "    \n",
        "    # 정보이득을 구할 데이터 셋에 대한 엔트로피 계산\n",
        "    vals,counts= np.unique(data[gain_data],return_counts=True)\n",
        "    Entropy_tar = np.sum([(counts[i]/np.sum(counts))*entropy(data.where(data[gain_data]==vals[i])) for i in range(len(vals))])\n",
        "    \n",
        "    #정보이득 계산\n",
        "    Infogain = entropy_all - Entropy_tar\n",
        "    return Infogain"
      ],
      "metadata": {
        "id": "acy_k-hHqAcq"
      },
      "execution_count": 409,
      "outputs": []
    },
    {
      "cell_type": "code",
      "source": [
        "from enum import unique\n",
        "# ID3 알고리즘 사용\n",
        "def ID3(data,original,features,target_name=\"class\",parent_node = None):\n",
        "\n",
        "  # 유일한 값을 가지는 경우 종료 후 속성 반환\n",
        "  if len(np.unique(data[target_name]))<=1:\n",
        "    return np.unique(data[target_name])[0]\n",
        "\n",
        "  # 데이터가 없는 경우 원본 데이터 중 최대 값을 가지는 속성 반환\n",
        "  elif len(data)==0:\n",
        "    return np.unique(original[target_name])[np.argmax(np.unique(original[target_name],return_counts=True)[1])]\n",
        "\n",
        "  # features 가 없을 경우 부모 노드의 속성으로 반환\n",
        "  elif len(features)==0:\n",
        "    return parent_node\n",
        "  \n",
        "  # 부모 노드의 대상 속성 정의\n",
        "  else:\n",
        "    parent_node = np.unique(data[target_name])[np.argmax(np.unique(data[target_name],return_counts=True)[1])]\n",
        "\n",
        "    # 데이터를 분할할 속성 선택\n",
        "    values = [Gain(data,feature,target_name) for feature in features]\n",
        "    best_index = np.argmax(values)\n",
        "    best_feature = features[best_index]\n",
        "\n",
        "    # 트리 구조 생성\n",
        "    tree={best_feature:{}}\n",
        "\n",
        "    # 최대 정보 이득인 속성 제외\n",
        "    features = [i for i in features if i !=best_feature]\n",
        "\n",
        "    # 정보이득이 가장 큰 값에 따라 데이터 분할(sub_data)\n",
        "    for value in np.unique(data[best_feature]):\n",
        "      sub_data = data.where(data[best_feature] == value).dropna()\n",
        "\n",
        "      #sub_data에 따라 IDS 호출하여 sub_data 루트 노드 아래로 하위 트리가 추가됨\n",
        "      subtree = ID3(sub_data, data, features, target_name, parent_node)\n",
        "      tree[best_feature][value] = subtree\n",
        "\n",
        "    return (tree)"
      ],
      "metadata": {
        "id": "P13BHwmXzWBW"
      },
      "execution_count": 410,
      "outputs": []
    },
    {
      "cell_type": "code",
      "source": [
        "#testset으로 예측값 계산\n",
        "def testset(data,tree):\n",
        "    queries = data.iloc[:,:-1].to_dict(orient = \"records\")\n",
        "    predicted = pd.DataFrame(columns=[\"predicted\"]) \n",
        "    \n",
        "    # 정확도 계산\n",
        "    for i in range(len(data)):\n",
        "        predicted.loc[i,\"predicted\"] = predict(queries[i],tree,1.0) \n",
        "    print('prediction accuracy: ',(np.sum(predicted[\"predicted\"] == data[\"class\"])/len(data))*100,'%')"
      ],
      "metadata": {
        "id": "OvBf7L3263eq"
      },
      "execution_count": 411,
      "outputs": []
    },
    {
      "cell_type": "code",
      "source": [
        "tree = ID3(train,train,train.columns[:-1])\n",
        "testset(test,tree)"
      ],
      "metadata": {
        "colab": {
          "base_uri": "https://localhost:8080/"
        },
        "id": "G7IEhjQQ7IRV",
        "outputId": "baf741a9-6ed6-4560-a068-48c45da2281f"
      },
      "execution_count": 412,
      "outputs": [
        {
          "output_type": "stream",
          "name": "stdout",
          "text": [
            "prediction accuracy:  86.66666666666667 %\n"
          ]
        }
      ]
    }
  ]
}