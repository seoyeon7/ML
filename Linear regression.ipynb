{
  "nbformat": 4,
  "nbformat_minor": 0,
  "metadata": {
    "colab": {
      "name": "Untitled6.ipynb",
      "provenance": [],
      "collapsed_sections": [],
      "authorship_tag": "ABX9TyNDQHiL7FCk/DBoLJ6fCkBD",
      "include_colab_link": true
    },
    "kernelspec": {
      "name": "python3",
      "display_name": "Python 3"
    },
    "language_info": {
      "name": "python"
    }
  },
  "cells": [
    {
      "cell_type": "markdown",
      "metadata": {
        "id": "view-in-github",
        "colab_type": "text"
      },
      "source": [
        "<a href=\"https://colab.research.google.com/github/seoyeon7/ML/blob/main/Linear%20regression.ipynb\" target=\"_parent\"><img src=\"https://colab.research.google.com/assets/colab-badge.svg\" alt=\"Open In Colab\"/></a>"
      ]
    },
    {
      "cell_type": "code",
      "execution_count": 22,
      "metadata": {
        "id": "dJEdBLHibtA7"
      },
      "outputs": [],
      "source": [
        "import math\n",
        "from matplotlib import pyplot as plt\n",
        "import pandas as pd\n",
        "import numpy as np"
      ]
    },
    {
      "cell_type": "code",
      "source": [
        "data = pd.read_csv('/content/iris.data',header=None, names=['sepal_len','sepal_width','petal_len','petal_width','class'])"
      ],
      "metadata": {
        "id": "wMeluIXMcS97"
      },
      "execution_count": 23,
      "outputs": []
    },
    {
      "cell_type": "code",
      "source": [
        "index=data[['sepal_len','sepal_width','petal_len','petal_width']]\n",
        "target = data['class']"
      ],
      "metadata": {
        "id": "_Iv9QX6sccQy"
      },
      "execution_count": 24,
      "outputs": []
    },
    {
      "cell_type": "code",
      "source": [
        "data = data.sample(frac=1).reset_index(drop=True)"
      ],
      "metadata": {
        "id": "zC9N09jUcc7X"
      },
      "execution_count": 25,
      "outputs": []
    },
    {
      "cell_type": "code",
      "source": [
        "def split(dataset):\n",
        "    train_size = int(data.shape[0]*0.80)\n",
        "    test_size = int(data.shape[0]*0.20)\n",
        "    \n",
        "    traindata = dataset.iloc[test_size:].reset_index(drop=True)\n",
        "    testdata = dataset.iloc[:test_size].reset_index(drop=True)\n",
        "    return traindata,testdata\n",
        "\n",
        "train = split(data)[0]\n",
        "test = split(data)[1]"
      ],
      "metadata": {
        "id": "V_9T_R4pcewy"
      },
      "execution_count": 26,
      "outputs": []
    },
    {
      "cell_type": "code",
      "source": [
        "train.head"
      ],
      "metadata": {
        "colab": {
          "base_uri": "https://localhost:8080/"
        },
        "id": "Y1N-RZ6Gr8v8",
        "outputId": "03b3640e-0d9e-4cdb-b65b-216a7d306005"
      },
      "execution_count": 27,
      "outputs": [
        {
          "output_type": "execute_result",
          "data": {
            "text/plain": [
              "<bound method NDFrame.head of      sepal_len  sepal_width  petal_len  petal_width            class\n",
              "0          6.2          2.2        4.5          1.5  Iris-versicolor\n",
              "1          6.1          2.8        4.0          1.3  Iris-versicolor\n",
              "2          5.1          3.8        1.9          0.4      Iris-setosa\n",
              "3          6.7          3.0        5.0          1.7  Iris-versicolor\n",
              "4          4.5          2.3        1.3          0.3      Iris-setosa\n",
              "..         ...          ...        ...          ...              ...\n",
              "115        5.7          2.6        3.5          1.0  Iris-versicolor\n",
              "116        6.4          2.7        5.3          1.9   Iris-virginica\n",
              "117        6.5          3.0        5.5          1.8   Iris-virginica\n",
              "118        5.9          3.2        4.8          1.8  Iris-versicolor\n",
              "119        5.0          3.3        1.4          0.2      Iris-setosa\n",
              "\n",
              "[120 rows x 5 columns]>"
            ]
          },
          "metadata": {},
          "execution_count": 27
        }
      ]
    },
    {
      "cell_type": "code",
      "source": [
        "#4개의 feature 중 petal_len, petal_width 사용\n",
        "\n",
        "p_len=np.array(train['petal_len'])\n",
        "p_width=np.array(train['petal_width'])\n",
        "plt.scatter(p_len,p_width)\n",
        "plt.show"
      ],
      "metadata": {
        "colab": {
          "base_uri": "https://localhost:8080/",
          "height": 282
        },
        "id": "Xa_dUC0psPB5",
        "outputId": "13c22c92-0d7b-4407-bfbe-e1b3cfc6a5f1"
      },
      "execution_count": 28,
      "outputs": [
        {
          "output_type": "execute_result",
          "data": {
            "text/plain": [
              "<function matplotlib.pyplot.show>"
            ]
          },
          "metadata": {},
          "execution_count": 28
        },
        {
          "output_type": "display_data",
          "data": {
            "text/plain": [
              "<Figure size 432x288 with 1 Axes>"
            ],
            "image/png": "[encoded data removed]"
          },
          "metadata": {
            "needs_background": "light"
          }
        }
      ]
    },
    {
      "cell_type": "code",
      "source": [
        "def Cost(X,y,a,b):\n",
        "    return sum((X*a+b-y)**2)/2/len(y)"
      ],
      "metadata": {
        "id": "MC36PS_MtIwn"
      },
      "execution_count": 29,
      "outputs": []
    },
    {
      "cell_type": "code",
      "source": [
        "print(Cost(p_len,p_width,1,10))"
      ],
      "metadata": {
        "colab": {
          "base_uri": "https://localhost:8080/"
        },
        "id": "utehvn4Vv2pH",
        "outputId": "438b382b-5d7f-4a39-b253-48c6b2e6e69c"
      },
      "execution_count": 30,
      "outputs": [
        {
          "output_type": "stream",
          "name": "stdout",
          "text": [
            "80.28633333333332\n"
          ]
        }
      ]
    },
    {
      "cell_type": "code",
      "source": [
        "def Grad_a(X,y,a,b):\n",
        "    return sum((a*X+b-y)*X)/len(y)\n",
        "def Grad_b(X,y,a,b):\n",
        "    return sum(a*X+b)/len(y)"
      ],
      "metadata": {
        "id": "2UIKLrGyI3JV"
      },
      "execution_count": 31,
      "outputs": []
    },
    {
      "cell_type": "code",
      "source": [
        "def Train(X,y,n,LearningRate):\n",
        "    a,b=0,0\n",
        "    for _ in range(n):\n",
        "        g_a=Grad_a(X,y,a,b)\n",
        "        g_b=Grad_b(X,y,a,b)\n",
        "        a-=LearningRate*g_a\n",
        "        b-=LearningRate*g_b\n",
        "    return [a,b]"
      ],
      "metadata": {
        "id": "D_MoC_XKpV9I"
      },
      "execution_count": 33,
      "outputs": []
    },
    {
      "cell_type": "code",
      "source": [
        "a,b=Train(p_len,p_width,1000,0.0003)\n",
        "plt.scatter(p_len,p_width)\n",
        "plt.plot([min(p_len),max(p_len)],np.array([min(p_len),max(p_len)])*a+b)\n",
        "plt.show()"
      ],
      "metadata": {
        "colab": {
          "base_uri": "https://localhost:8080/",
          "height": 265
        },
        "id": "qd-oVIhXpwYt",
        "outputId": "878e6e8d-4470-4e30-ca21-64457a408ff5"
      },
      "execution_count": 47,
      "outputs": [
        {
          "output_type": "display_data",
          "data": {
            "text/plain": [
              "<Figure size 432x288 with 1 Axes>"
            ],
            "image/png": "[encoded data removed]"
          },
          "metadata": {
            "needs_background": "light"
          }
        }
      ]
    }
  ]
}