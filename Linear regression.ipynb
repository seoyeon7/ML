{
  "nbformat": 4,
  "nbformat_minor": 0,
  "metadata": {
    "colab": {
      "name": "Untitled6.ipynb",
      "provenance": [],
      "collapsed_sections": [],
      "authorship_tag": "ABX9TyNRSyV1yb2mjxgb6wSx8a3J",
      "include_colab_link": true
    },
    "kernelspec": {
      "name": "python3",
      "display_name": "Python 3"
    },
    "language_info": {
      "name": "python"
    }
  },
  "cells": [
    {
      "cell_type": "markdown",
      "metadata": {
        "id": "view-in-github",
        "colab_type": "text"
      },
      "source": [
        "<a href=\"https://colab.research.google.com/github/seoyeon7/ML/blob/main/Linear%20regression.ipynb\" target=\"_parent\"><img src=\"https://colab.research.google.com/assets/colab-badge.svg\" alt=\"Open In Colab\"/></a>"
      ]
    },
    {
      "cell_type": "code",
      "execution_count": 54,
      "metadata": {
        "id": "dJEdBLHibtA7"
      },
      "outputs": [],
      "source": [
        "import math\n",
        "from matplotlib import pyplot as plt\n",
        "import pandas as pd\n",
        "import numpy as np"
      ]
    },
    {
      "cell_type": "code",
      "source": [
        "data = pd.read_csv('/content/iris.data',header=None, names=['sepal_len','sepal_width','petal_len','petal_width','class'])"
      ],
      "metadata": {
        "id": "wMeluIXMcS97"
      },
      "execution_count": 55,
      "outputs": []
    },
    {
      "cell_type": "code",
      "source": [
        "index=data[['sepal_len','sepal_width','petal_len','petal_width']]\n",
        "target = data['class']"
      ],
      "metadata": {
        "id": "_Iv9QX6sccQy"
      },
      "execution_count": 56,
      "outputs": []
    },
    {
      "cell_type": "code",
      "source": [
        "data = data.sample(frac=1).reset_index(drop=True)"
      ],
      "metadata": {
        "id": "zC9N09jUcc7X"
      },
      "execution_count": 57,
      "outputs": []
    },
    {
      "cell_type": "code",
      "source": [
        "def split(dataset):\n",
        "    train_size = int(data.shape[0]*0.80)\n",
        "    test_size = int(data.shape[0]*0.20)\n",
        "    \n",
        "    traindata = dataset.iloc[test_size:].reset_index(drop=True)\n",
        "    testdata = dataset.iloc[:test_size].reset_index(drop=True)\n",
        "    return traindata,testdata\n",
        "\n",
        "train = split(data)[0]\n",
        "test = split(data)[1]"
      ],
      "metadata": {
        "id": "V_9T_R4pcewy"
      },
      "execution_count": 58,
      "outputs": []
    },
    {
      "cell_type": "code",
      "source": [
        "train.head"
      ],
      "metadata": {
        "colab": {
          "base_uri": "https://localhost:8080/"
        },
        "id": "Y1N-RZ6Gr8v8",
        "outputId": "724d48ff-9588-4cf3-b89d-1b52636282b4"
      },
      "execution_count": 59,
      "outputs": [
        {
          "output_type": "execute_result",
          "data": {
            "text/plain": [
              "<bound method NDFrame.head of      sepal_len  sepal_width  petal_len  petal_width            class\n",
              "0          5.8          2.7        5.1          1.9   Iris-virginica\n",
              "1          5.0          3.3        1.4          0.2      Iris-setosa\n",
              "2          5.7          2.6        3.5          1.0  Iris-versicolor\n",
              "3          7.2          3.6        6.1          2.5   Iris-virginica\n",
              "4          6.9          3.1        5.1          2.3   Iris-virginica\n",
              "..         ...          ...        ...          ...              ...\n",
              "115        6.3          3.3        4.7          1.6  Iris-versicolor\n",
              "116        6.3          2.5        5.0          1.9   Iris-virginica\n",
              "117        6.5          3.0        5.8          2.2   Iris-virginica\n",
              "118        5.2          4.1        1.5          0.1      Iris-setosa\n",
              "119        5.5          4.2        1.4          0.2      Iris-setosa\n",
              "\n",
              "[120 rows x 5 columns]>"
            ]
          },
          "metadata": {},
          "execution_count": 59
        }
      ]
    },
    {
      "cell_type": "code",
      "source": [
        "#4개의 feature 중 petal_len, petal_width 사용\n",
        "\n",
        "p_len=np.array(train['petal_len'])\n",
        "p_width=np.array(train['petal_width'])\n",
        "plt.scatter(p_len,p_width)\n",
        "plt.show"
      ],
      "metadata": {
        "colab": {
          "base_uri": "https://localhost:8080/",
          "height": 282
        },
        "id": "Xa_dUC0psPB5",
        "outputId": "f9021c7c-9660-409c-ef3d-53482f612bca"
      },
      "execution_count": 60,
      "outputs": [
        {
          "output_type": "execute_result",
          "data": {
            "text/plain": [
              "<function matplotlib.pyplot.show>"
            ]
          },
          "metadata": {},
          "execution_count": 60
        },
        {
          "output_type": "display_data",
          "data": {
            "text/plain": [
              "<Figure size 432x288 with 1 Axes>"
            ],
            "image/png": "[encoded data removed]"
          },
          "metadata": {
            "needs_background": "light"
          }
        }
      ]
    },
    {
      "cell_type": "code",
      "source": [
        "#경사하강법 -> a, b는 가설을 구성하는 파라미터 값\n",
        "def Grad1(x,y,a,b):\n",
        "    return sum((a*x+b-y)*x)/len(y)\n",
        "\n",
        "def Grad2(x,y,a,b):\n",
        "    return sum(a*x+b)/len(y)"
      ],
      "metadata": {
        "id": "2UIKLrGyI3JV"
      },
      "execution_count": 61,
      "outputs": []
    },
    {
      "cell_type": "code",
      "source": [
        "def Train(len,width,n,LearningRate):\n",
        "    a,b=0,0\n",
        "    for _ in range(n):\n",
        "        grad_a=Grad1(len,width,a,b)\n",
        "        grad_b=Grad2(len,width,a,b)\n",
        "        a-=LearningRate*grad_a\n",
        "        b-=LearningRate*grad_b\n",
        "    return [a,b]"
      ],
      "metadata": {
        "id": "D_MoC_XKpV9I"
      },
      "execution_count": 62,
      "outputs": []
    },
    {
      "cell_type": "code",
      "source": [
        "a,b=Train(p_len,p_width,1000,0.0003)\n",
        "\n",
        "plt.scatter(p_len,p_width)\n",
        "plt.plot([min(p_len),max(p_len)],np.array([min(p_len),max(p_len)])*a+b)\n",
        "plt.show()"
      ],
      "metadata": {
        "colab": {
          "base_uri": "https://localhost:8080/",
          "height": 265
        },
        "id": "qd-oVIhXpwYt",
        "outputId": "1852d15d-6aa3-4787-b621-2126168947e4"
      },
      "execution_count": 63,
      "outputs": [
        {
          "output_type": "display_data",
          "data": {
            "text/plain": [
              "<Figure size 432x288 with 1 Axes>"
            ],
            "image/png": "[encoded data removed]"
          },
          "metadata": {
            "needs_background": "light"
          }
        }
      ]
    }
  ]
}